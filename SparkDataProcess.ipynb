{
 "cells": [
  {
   "cell_type": "code",
   "execution_count": 1,
   "metadata": {},
   "outputs": [
    {
     "data": {
      "text/html": [
       "\n",
       "        <div>\n",
       "            <p><b>SparkContext</b></p>\n",
       "\n",
       "            <p><a href=\"http://172.23.8.48:4042\">Spark UI</a></p>\n",
       "\n",
       "            <dl>\n",
       "              <dt>Version</dt>\n",
       "                <dd><code>v2.2.0</code></dd>\n",
       "              <dt>Master</dt>\n",
       "                <dd><code>local[*]</code></dd>\n",
       "              <dt>AppName</dt>\n",
       "                <dd><code>PySparkShell</code></dd>\n",
       "            </dl>\n",
       "        </div>\n",
       "        "
      ],
      "text/plain": [
       "<SparkContext master=local[*] appName=PySparkShell>"
      ]
     },
     "execution_count": 1,
     "metadata": {},
     "output_type": "execute_result"
    }
   ],
   "source": [
    "#Show the spark environment \n",
    "sc"
   ]
  },
  {
   "cell_type": "markdown",
   "metadata": {},
   "source": [
    "# Initial Loading file to RDD"
   ]
  },
  {
   "cell_type": "code",
   "execution_count": 91,
   "metadata": {},
   "outputs": [
    {
     "data": {
      "text/plain": [
       "1123466"
      ]
     },
     "execution_count": 91,
     "metadata": {},
     "output_type": "execute_result"
    }
   ],
   "source": [
    "# load open data \n",
    "# The data is fetched from New York City's Socrata data portal: https://data.cityofnewyork.us/Public-Safety/NYPD-7-Major-Felony-Incidents/hyij-8hr7/data\n",
    "filePath=\"/Users/chenwisely/notebook/NYPD_7_Major_Felony_Incidents.csv\"\n",
    "data = sc.textFile(filePath)\n",
    "data.count()"
   ]
  },
  {
   "cell_type": "code",
   "execution_count": 7,
   "metadata": {},
   "outputs": [
    {
     "name": "stdout",
     "output_type": "stream",
     "text": [
      "OBJECTID,Identifier,Occurrence Date,Day of Week,Occurrence Month,Occurrence Day,Occurrence Year,Occurrence Hour,CompStat Month,CompStat Day,CompStat Year,Offense,Offense Classification,Sector,Precinct,Borough,Jurisdiction,XCoordinate,YCoordinate,Location 1\n"
     ]
    }
   ],
   "source": [
    "#show the header \n",
    "header=data.first()\n",
    "print(header)"
   ]
  },
  {
   "cell_type": "code",
   "execution_count": 10,
   "metadata": {},
   "outputs": [
    {
     "data": {
      "text/plain": [
       "['1,f070032d,09/06/1940 07:30:00 PM,Friday,Sep,6,1940,19,9,7,2010,BURGLARY,FELONY,D,66,BROOKLYN,N.Y. POLICE DEPT,987478,166141,\"(40.6227027620001, -73.9883732929999)\"',\n",
       " '2,c6245d4d,12/14/1968 12:20:00 AM,Saturday,Dec,14,1968,0,12,14,2008,GRAND LARCENY,FELONY,G,28,MANHATTAN,N.Y. POLICE DEPT,996470,232106,\"(40.8037530600001, -73.955861904)\"',\n",
       " '3,716dbc6f,10/30/1970 03:30:00 PM,Friday,Oct,30,1970,15,10,31,2008,BURGLARY,FELONY,H,84,BROOKLYN,N.Y. POLICE DEPT,986508,190249,\"(40.688874254, -73.9918594329999)\"',\n",
       " '4,638cd7b7,07/18/1972 11:00:00 PM,Tuesday,Jul,18,1972,23,7,19,2012,GRAND LARCENY OF MOTOR VEHICLE,FELONY,F,73,BROOKLYN,N.Y. POLICE DEPT,1005876,182440,\"(40.6674141890001, -73.9220463899999)\"',\n",
       " '5,6e410287,05/21/1987 12:01:00 AM,Thursday,May,21,1987,0,5,28,2009,GRAND LARCENY,FELONY,K,75,BROOKLYN,N.Y. POLICE DEPT,1017958,182266,\"(40.6668988440001, -73.878495425)\"',\n",
       " '6,7eebfe3c,02/01/1990 09:00:00 AM,Thursday,Feb,1,1990,9,9,17,2014,GRAND LARCENY,FELONY,K,105,QUEENS,N.Y. POLICE DEPT,1058407,204788,\"(40.7284698170001, -73.7324430589999)\"',\n",
       " '7,da21f94f,11/13/1990 12:01:00 AM,Tuesday,Nov,13,1990,0,6,7,2007,GRAND LARCENY,FELONY,,73,BROOKLYN,N.Y. HOUSING POLICE,1010272,183760,\"(40.671025464, -73.906195082)\"',\n",
       " '8,87c99e8c,02/02/1992 04:00:00 PM,Sunday,Feb,2,1992,16,3,27,2012,GRAND LARCENY,FELONY,,101,QUEENS,N.Y. POLICE DEPT,1053678,159044,\"(40.6029515910001, -73.749976261)\"',\n",
       " '9,495f57e1,08/08/1994 06:00:00 PM,Monday,Aug,8,1994,18,7,31,2008,RAPE,FELONY,A,103,QUEENS,N.Y. POLICE DEPT,1041749,196938,\"(40.707047475, -73.792611904)\"',\n",
       " '10,31c0b727,10/26/1994 12:01:00 AM,Wednesday,Oct,26,1994,0,6,4,2008,GRAND LARCENY,FELONY,D,17,MANHATTAN,N.Y. POLICE DEPT,992029,213332,\"(40.7522284, -73.971924858)\"']"
      ]
     },
     "execution_count": 10,
     "metadata": {},
     "output_type": "execute_result"
    }
   ],
   "source": [
    "#show content of CSV file \n",
    "dataWoHeader=data.filter(lambda x: x!=header)\n",
    "dataWoHeader.take(10)"
   ]
  },
  {
   "cell_type": "code",
   "execution_count": 13,
   "metadata": {},
   "outputs": [],
   "source": [
    "# deal with CSV file \n",
    "import csv\n",
    "from io import StringIO\n",
    "from collections import namedtuple"
   ]
  },
  {
   "cell_type": "code",
   "execution_count": 14,
   "metadata": {},
   "outputs": [
    {
     "data": {
      "text/plain": [
       "['OBJECTID',\n",
       " 'Identifier',\n",
       " 'Occurrence_Date',\n",
       " 'Day_of_Week',\n",
       " 'Occurrence_Month',\n",
       " 'Occurrence_Day',\n",
       " 'Occurrence_Year',\n",
       " 'Occurrence_Hour',\n",
       " 'CompStat_Month',\n",
       " 'CompStat_Day',\n",
       " 'CompStat_Year',\n",
       " 'Offense',\n",
       " 'Offense_Classification',\n",
       " 'Sector',\n",
       " 'Precinct',\n",
       " 'Borough',\n",
       " 'Jurisdiction',\n",
       " 'XCoordinate',\n",
       " 'YCoordinate',\n",
       " 'Location_1']"
      ]
     },
     "execution_count": 14,
     "metadata": {},
     "output_type": "execute_result"
    }
   ],
   "source": [
    "# modify the header \n",
    "fields=header.replace(\" \",\"_\").replace(\"/\",\"_\").split(\",\")\n",
    "fields"
   ]
  },
  {
   "cell_type": "code",
   "execution_count": 87,
   "metadata": {},
   "outputs": [],
   "source": [
    "#convert csv to namedtuple class \n",
    "Crime=namedtuple(\"Crime\",fields )"
   ]
  },
  {
   "cell_type": "code",
   "execution_count": 88,
   "metadata": {},
   "outputs": [],
   "source": [
    "# define how we parse the CSV file \n",
    "def parse(row):\n",
    "    reader=csv.reader(StringIO(row))\n",
    "    row=next(reader)\n",
    "    return Crime(*row)"
   ]
  },
  {
   "cell_type": "code",
   "execution_count": 89,
   "metadata": {},
   "outputs": [],
   "source": [
    "# convert csv file to Crime RDD\n",
    "crime=dataWoHeader.map(parse)"
   ]
  },
  {
   "cell_type": "markdown",
   "metadata": {},
   "source": [
    "#  Discover data quality phase 1 , filter the un-quality data "
   ]
  },
  {
   "cell_type": "code",
   "execution_count": 90,
   "metadata": {},
   "outputs": [
    {
     "data": {
      "text/plain": [
       "Crime(OBJECTID='1', Identifier='f070032d', Occurrence_Date='09/06/1940 07:30:00 PM', Day_of_Week='Friday', Occurrence_Month='Sep', Occurrence_Day='6', Occurrence_Year='1940', Occurrence_Hour='19', CompStat_Month='9', CompStat_Day='7', CompStat_Year='2010', Offense='BURGLARY', Offense_Classification='FELONY', Sector='D', Precinct='66', Borough='BROOKLYN', Jurisdiction='N.Y. POLICE DEPT', XCoordinate='987478', YCoordinate='166141', Location_1='(40.6227027620001, -73.9883732929999)')"
      ]
     },
     "execution_count": 90,
     "metadata": {},
     "output_type": "execute_result"
    }
   ],
   "source": [
    "#show first element \n",
    "crime.first()"
   ]
  },
  {
   "cell_type": "code",
   "execution_count": 33,
   "metadata": {},
   "outputs": [
    {
     "data": {
      "text/plain": [
       "'BURGLARY'"
      ]
     },
     "execution_count": 33,
     "metadata": {},
     "output_type": "execute_result"
    }
   ],
   "source": [
    "crime.first().Offense"
   ]
  },
  {
   "cell_type": "code",
   "execution_count": 35,
   "metadata": {},
   "outputs": [
    {
     "data": {
      "text/plain": [
       "defaultdict(int,\n",
       "            {'BURGLARY': 191369,\n",
       "             'FELONY ASSAULT': 184042,\n",
       "             'GRAND LARCENY': 428993,\n",
       "             'GRAND LARCENY OF MOTOR VEHICLE': 101963,\n",
       "             'MURDER & NON-NEGL. MANSLAUGHTE': 4574,\n",
       "             'NA': 1,\n",
       "             'RAPE': 13779,\n",
       "             'ROBBERY': 198744})"
      ]
     },
     "execution_count": 35,
     "metadata": {},
     "output_type": "execute_result"
    }
   ],
   "source": [
    "# count the number group by the Offense type \n",
    "crime.map(lambda x: x.Offense).countByValue()"
   ]
  },
  {
   "cell_type": "code",
   "execution_count": 36,
   "metadata": {},
   "outputs": [
    {
     "data": {
      "text/plain": [
       "defaultdict(int,\n",
       "            {'': 244,\n",
       "             '1905': 2,\n",
       "             '1908': 1,\n",
       "             '1910': 3,\n",
       "             '1911': 1,\n",
       "             '1912': 1,\n",
       "             '1913': 4,\n",
       "             '1914': 2,\n",
       "             '1915': 3,\n",
       "             '1920': 1,\n",
       "             '1940': 1,\n",
       "             '1945': 2,\n",
       "             '1946': 1,\n",
       "             '1950': 1,\n",
       "             '1954': 1,\n",
       "             '1955': 1,\n",
       "             '1956': 1,\n",
       "             '1958': 1,\n",
       "             '1959': 1,\n",
       "             '1960': 1,\n",
       "             '1964': 1,\n",
       "             '1965': 2,\n",
       "             '1966': 7,\n",
       "             '1968': 1,\n",
       "             '1969': 1,\n",
       "             '1970': 2,\n",
       "             '1971': 1,\n",
       "             '1972': 2,\n",
       "             '1973': 5,\n",
       "             '1974': 3,\n",
       "             '1975': 2,\n",
       "             '1976': 2,\n",
       "             '1977': 3,\n",
       "             '1978': 2,\n",
       "             '1979': 6,\n",
       "             '1980': 5,\n",
       "             '1981': 1,\n",
       "             '1982': 5,\n",
       "             '1983': 1,\n",
       "             '1984': 4,\n",
       "             '1985': 8,\n",
       "             '1986': 2,\n",
       "             '1987': 6,\n",
       "             '1988': 6,\n",
       "             '1989': 12,\n",
       "             '1990': 17,\n",
       "             '1991': 12,\n",
       "             '1992': 12,\n",
       "             '1993': 23,\n",
       "             '1994': 19,\n",
       "             '1995': 27,\n",
       "             '1996': 34,\n",
       "             '1997': 40,\n",
       "             '1998': 74,\n",
       "             '1999': 124,\n",
       "             '2000': 282,\n",
       "             '2001': 343,\n",
       "             '2002': 368,\n",
       "             '2003': 490,\n",
       "             '2004': 692,\n",
       "             '2005': 3272,\n",
       "             '2006': 127887,\n",
       "             '2007': 120554,\n",
       "             '2008': 117375,\n",
       "             '2009': 106018,\n",
       "             '2010': 105643,\n",
       "             '2011': 107206,\n",
       "             '2012': 111798,\n",
       "             '2013': 111286,\n",
       "             '2014': 106849,\n",
       "             '2015': 102657})"
      ]
     },
     "execution_count": 36,
     "metadata": {},
     "output_type": "execute_result"
    }
   ],
   "source": [
    "# show crime year\n",
    "# found the data <2006 and >2006 is different scale \n",
    "# <2006 data should be incomplete \n",
    "crime.map(lambda x: x.Occurrence_Year).countByValue()"
   ]
  },
  {
   "cell_type": "code",
   "execution_count": 39,
   "metadata": {},
   "outputs": [],
   "source": [
    "# due to < 2006 data is not complete data\n",
    "# filter the incompleted data \n",
    "crimeFiltered=crime.filter(lambda x: not (x.Offense==\"NA\" or x.Occurrence_Year==''))\\\n",
    "                   .filter(lambda x: int(x.Occurrence_Year)>=2006)"
   ]
  },
  {
   "cell_type": "code",
   "execution_count": 41,
   "metadata": {},
   "outputs": [
    {
     "data": {
      "text/plain": [
       "defaultdict(int,\n",
       "            {'2006': 127887,\n",
       "             '2007': 120554,\n",
       "             '2008': 117375,\n",
       "             '2009': 106018,\n",
       "             '2010': 105643,\n",
       "             '2011': 107206,\n",
       "             '2012': 111798,\n",
       "             '2013': 111286,\n",
       "             '2014': 106849,\n",
       "             '2015': 102657})"
      ]
     },
     "execution_count": 41,
     "metadata": {},
     "output_type": "execute_result"
    }
   ],
   "source": [
    "# analysis the layout again and see if there is any problem \n",
    "crimeFiltered.map(lambda x: x.Occurrence_Year).countByValue()"
   ]
  },
  {
   "cell_type": "markdown",
   "metadata": {},
   "source": [
    "# Discover data quality phase 2 , filter the un-quality data "
   ]
  },
  {
   "cell_type": "code",
   "execution_count": 60,
   "metadata": {},
   "outputs": [],
   "source": [
    "# extract the Lat/Lon by the location string \"(40.7522284, -73.971924858)\"\n",
    "def extractCoords(location):\n",
    "    loc_lat=float(location[1:location.index(\",\")])\n",
    "    loc_lon=float(location[location.index(\",\")+1:-1])\n",
    "    return (loc_lat,loc_lon)"
   ]
  },
  {
   "cell_type": "code",
   "execution_count": 61,
   "metadata": {},
   "outputs": [
    {
     "data": {
      "text/plain": [
       "(40.112709974, -77.519206334)"
      ]
     },
     "execution_count": 61,
     "metadata": {},
     "output_type": "execute_result"
    }
   ],
   "source": [
    "# find the min lat/lon value in dataset \n",
    "crimeFiltered.map(lambda x:extractCoords(x.Location_1))\\\n",
    "             .reduce(lambda x,y: (min(x[0],y[0]),min(x[1],y[1])))"
   ]
  },
  {
   "cell_type": "code",
   "execution_count": 62,
   "metadata": {},
   "outputs": [
    {
     "data": {
      "text/plain": [
       "(59.5805088160001, -73.700716685)"
      ]
     },
     "execution_count": 62,
     "metadata": {},
     "output_type": "execute_result"
    }
   ],
   "source": [
    "# find the max lat/lon value in dataset \n",
    "crimeFiltered.map(lambda x:extractCoords(x.Location_1))\\\n",
    "             .reduce(lambda x,y: (max(x[0],y[0]),max(x[1],y[1])))"
   ]
  },
  {
   "cell_type": "code",
   "execution_count": 68,
   "metadata": {},
   "outputs": [],
   "source": [
    "# New York's lat/lon min is 40.477399/-74.25909 , lat/lon max is 40.917577/-73.700009\n",
    "# filter the out of New York range data \n",
    "crimeFinal=crimeFiltered.filter(lambda x: extractCoords(x.Location_1)[0]>=40.477399 and \\\n",
    "                                    extractCoords(x.Location_1)[0] <= 40.917577 and \\\n",
    "                                    extractCoords(x.Location_1)[1] >= -74.25909 and \\\n",
    "                                    extractCoords(x.Location_1)[1] <= -73.700009)"
   ]
  },
  {
   "cell_type": "markdown",
   "metadata": {},
   "source": [
    "# CrimeFinal is the clean dataset"
   ]
  },
  {
   "cell_type": "code",
   "execution_count": 92,
   "metadata": {},
   "outputs": [
    {
     "data": {
      "text/plain": [
       "Crime(OBJECTID='258', Identifier='13b6949b', Occurrence_Date='01/09/2006 12:00:00 AM', Day_of_Week='Monday', Occurrence_Month='Jan', Occurrence_Day='9', Occurrence_Year='2006', Occurrence_Hour='0', CompStat_Month='8', CompStat_Day='16', CompStat_Year='2006', Offense='GRAND LARCENY', Offense_Classification='FELONY', Sector='H', Precinct='102', Borough='QUEENS', Jurisdiction='N.Y. POLICE DEPT', XCoordinate='1029007', YCoordinate='194256', Location_1='(40.6997596520001, -73.8385879319999)')"
      ]
     },
     "execution_count": 92,
     "metadata": {},
     "output_type": "execute_result"
    }
   ],
   "source": [
    "crimeFinal.first()"
   ]
  },
  {
   "cell_type": "markdown",
   "metadata": {},
   "source": [
    "# Analysis the data we need and visualize it "
   ]
  },
  {
   "cell_type": "code",
   "execution_count": 93,
   "metadata": {},
   "outputs": [
    {
     "data": {
      "text/plain": [
       "defaultdict(int,\n",
       "            {'2006': 23069,\n",
       "             '2007': 21715,\n",
       "             '2008': 20732,\n",
       "             '2009': 19441,\n",
       "             '2010': 18700,\n",
       "             '2011': 18860,\n",
       "             '2012': 19309,\n",
       "             '2013': 17419,\n",
       "             '2014': 16832,\n",
       "             '2015': 14967})"
      ]
     },
     "execution_count": 93,
     "metadata": {},
     "output_type": "execute_result"
    }
   ],
   "source": [
    "# fetch the data by the dimension we need \n",
    "crimeFinal.filter(lambda x: x.Offense==\"BURGLARY\")\\\n",
    "          .map(lambda x:x.Occurrence_Year)\\\n",
    "          .countByValue()"
   ]
  },
  {
   "cell_type": "code",
   "execution_count": 94,
   "metadata": {},
   "outputs": [],
   "source": [
    "# get Occurrence_Year 2015 , Offense type = BURGLARY's lat/lon \n",
    "b_lats = crimeFinal.filter(lambda x: x.Offense==\"BURGLARY\" and x.Occurrence_Year==\"2015\")\\\n",
    "                   .map(lambda x:extractCoords(x.Location_1)[0])\\\n",
    "                   .collect()\n",
    "\n",
    "b_lons = crimeFinal.filter(lambda x: x.Offense==\"BURGLARY\" and x.Occurrence_Year==\"2015\")\\\n",
    "                   .map(lambda x:extractCoords(x.Location_1)[1])\\\n",
    "                   .collect()"
   ]
  },
  {
   "cell_type": "code",
   "execution_count": null,
   "metadata": {},
   "outputs": [],
   "source": [
    "# visualize it \n",
    "import gmplot\n",
    "gmap=gmplot.GoogleMapPlotter(37.428,-122.145,16).from_geocode(\"New Yrok\")\n",
    "gmap.scatter(b_lats,b_lons,\"#DE1515\" , size=40, marker=False)\n",
    "gmap.draw(\"mymap.html\")"
   ]
  },
  {
   "cell_type": "code",
   "execution_count": null,
   "metadata": {},
   "outputs": [],
   "source": []
  },
  {
   "cell_type": "code",
   "execution_count": null,
   "metadata": {},
   "outputs": [],
   "source": []
  }
 ],
 "metadata": {
  "kernelspec": {
   "display_name": "Python 3",
   "language": "python",
   "name": "python3"
  }
 },
 "nbformat": 4,
 "nbformat_minor": 2
}
