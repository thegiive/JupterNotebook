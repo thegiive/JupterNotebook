{
 "cells": [
  {
   "cell_type": "markdown",
   "metadata": {},
   "source": [
    "# Data load "
   ]
  },
  {
   "cell_type": "code",
   "execution_count": 2,
   "metadata": {},
   "outputs": [],
   "source": [
    "# data is located in https://archive.ics.uci.edu/ml/datasets/dodgers+loop+sensor\n",
    "trafficPath=\"file:///Users/chenwisely/notebook/Dodgers.data\"\n",
    "gamesPath=\"file:///Users/chenwisely/notebook/Dodgers.events\""
   ]
  },
  {
   "cell_type": "code",
   "execution_count": 3,
   "metadata": {},
   "outputs": [
    {
     "data": {
      "text/plain": [
       "['4/10/2005 0:00,-1',\n",
       " '4/10/2005 0:05,-1',\n",
       " '4/10/2005 0:10,-1',\n",
       " '4/10/2005 0:15,-1',\n",
       " '4/10/2005 0:20,-1',\n",
       " '4/10/2005 0:25,-1',\n",
       " '4/10/2005 0:30,-1',\n",
       " '4/10/2005 0:35,-1',\n",
       " '4/10/2005 0:40,-1',\n",
       " '4/10/2005 0:45,-1']"
      ]
     },
     "execution_count": 3,
     "metadata": {},
     "output_type": "execute_result"
    }
   ],
   "source": [
    "traffic = sc.textFile(trafficPath)\n",
    "traffic.take(10)\n",
    "# data content is each five min time, last 5 min's cars "
   ]
  },
  {
   "cell_type": "code",
   "execution_count": 5,
   "metadata": {},
   "outputs": [
    {
     "data": {
      "text/plain": [
       "['04/12/05,13:10:00,16:23:00,55892,San Francisco,W 9-8�',\n",
       " '04/13/05,19:10:00,21:48:00,46514,San Francisco,W 4-1�',\n",
       " '04/15/05,19:40:00,21:48:00,51816,San Diego,W 4-0�',\n",
       " '04/16/05,19:10:00,21:52:00,54704,San Diego,W 8-3�',\n",
       " '04/17/05,13:10:00,15:31:00,53402,San Diego,W 6-0�',\n",
       " '04/25/05,19:10:00,21:33:00,36876,Arizona,L 4-2�',\n",
       " '04/26/05,19:10:00,22:00:00,44486,Arizona,L 3-2�',\n",
       " '04/27/05,19:10:00,22:17:00,54387,Arizona,L 6-3�',\n",
       " '04/29/05,19:40:00,22:01:00,40150,Colorado,W 6-3�',\n",
       " '04/30/05,19:10:00,21:45:00,54123,Colorado,W 6-2�']"
      ]
     },
     "execution_count": 5,
     "metadata": {},
     "output_type": "execute_result"
    }
   ],
   "source": [
    "games = sc.textFile(gamesPath)\n",
    "games.take(10)\n",
    "# data content is date,startTime,endTime,audience,Oppoent,WinOrLoss"
   ]
  },
  {
   "cell_type": "markdown",
   "metadata": {},
   "source": [
    "# Parse data into RDD"
   ]
  },
  {
   "cell_type": "code",
   "execution_count": 9,
   "metadata": {},
   "outputs": [],
   "source": [
    "from datetime import datetime\n",
    "import csv\n",
    "from io import StringIO\n",
    "\n",
    "def parseTraffic(row):\n",
    "    # parse traffic function\n",
    "    DATE_FMT=\"%m/%d/%Y %H:%M\"\n",
    "    row=row.split(\",\")\n",
    "    row[0] = datetime.strptime(row[0] , DATE_FMT)\n",
    "    row[1] = int(row[1])\n",
    "    return (row[0],row[1])"
   ]
  },
  {
   "cell_type": "code",
   "execution_count": 10,
   "metadata": {},
   "outputs": [
    {
     "data": {
      "text/plain": [
       "[(datetime.datetime(2005, 4, 10, 0, 0), -1),\n",
       " (datetime.datetime(2005, 4, 10, 0, 5), -1),\n",
       " (datetime.datetime(2005, 4, 10, 0, 10), -1),\n",
       " (datetime.datetime(2005, 4, 10, 0, 15), -1),\n",
       " (datetime.datetime(2005, 4, 10, 0, 20), -1),\n",
       " (datetime.datetime(2005, 4, 10, 0, 25), -1),\n",
       " (datetime.datetime(2005, 4, 10, 0, 30), -1),\n",
       " (datetime.datetime(2005, 4, 10, 0, 35), -1),\n",
       " (datetime.datetime(2005, 4, 10, 0, 40), -1),\n",
       " (datetime.datetime(2005, 4, 10, 0, 45), -1)]"
      ]
     },
     "execution_count": 10,
     "metadata": {},
     "output_type": "execute_result"
    }
   ],
   "source": [
    "trafficParsed = traffic.map(parseTraffic)\n",
    "trafficParsed.take(10)"
   ]
  },
  {
   "cell_type": "markdown",
   "metadata": {},
   "source": [
    "# Daily Traffic Trend"
   ]
  },
  {
   "cell_type": "code",
   "execution_count": 17,
   "metadata": {},
   "outputs": [],
   "source": [
    "#filter the -1 traffic and sum up each date's traffic \n",
    "dailyTrend = trafficParsed.filter(lambda x:x[1] >0).map(lambda x: (x[0].date() , x[1]))\\\n",
    "                          .reduceByKey(lambda x,y: x+y)"
   ]
  },
  {
   "cell_type": "code",
   "execution_count": 18,
   "metadata": {},
   "outputs": [
    {
     "data": {
      "text/plain": [
       "[(datetime.date(2005, 4, 11), 5153),\n",
       " (datetime.date(2005, 4, 14), 6423),\n",
       " (datetime.date(2005, 4, 15), 6472),\n",
       " (datetime.date(2005, 4, 16), 6004),\n",
       " (datetime.date(2005, 4, 17), 5322),\n",
       " (datetime.date(2005, 4, 18), 5601),\n",
       " (datetime.date(2005, 4, 19), 6049),\n",
       " (datetime.date(2005, 4, 21), 5986),\n",
       " (datetime.date(2005, 4, 22), 6038),\n",
       " (datetime.date(2005, 4, 23), 5366)]"
      ]
     },
     "execution_count": 18,
     "metadata": {},
     "output_type": "execute_result"
    }
   ],
   "source": [
    "dailyTrend.take(10)"
   ]
  },
  {
   "cell_type": "code",
   "execution_count": 21,
   "metadata": {},
   "outputs": [
    {
     "data": {
      "text/plain": [
       "[(datetime.date(2005, 7, 28), 7661),\n",
       " (datetime.date(2005, 7, 29), 7499),\n",
       " (datetime.date(2005, 8, 12), 7287),\n",
       " (datetime.date(2005, 7, 27), 7238),\n",
       " (datetime.date(2005, 9, 23), 7175),\n",
       " (datetime.date(2005, 7, 26), 7163),\n",
       " (datetime.date(2005, 5, 20), 7119),\n",
       " (datetime.date(2005, 8, 11), 7110),\n",
       " (datetime.date(2005, 9, 8), 7107),\n",
       " (datetime.date(2005, 9, 7), 7082)]"
      ]
     },
     "execution_count": 21,
     "metadata": {},
     "output_type": "execute_result"
    }
   ],
   "source": [
    "# -x[1] to specify descending order \n",
    "dailyTrend.sortBy(lambda x: -x[1]).take(10)"
   ]
  },
  {
   "cell_type": "markdown",
   "metadata": {},
   "source": [
    "# Join "
   ]
  },
  {
   "cell_type": "code",
   "execution_count": 22,
   "metadata": {},
   "outputs": [],
   "source": [
    "# Join = Inner Join\n",
    "# Left Outer Join = all key from the left RDD are returned \n",
    "# Right Outer Join = all key from the right RDD are returned "
   ]
  },
  {
   "cell_type": "code",
   "execution_count": 23,
   "metadata": {},
   "outputs": [
    {
     "data": {
      "text/plain": [
       "[(datetime.date(2005, 4, 12), 'San Francisco'),\n",
       " (datetime.date(2005, 4, 13), 'San Francisco'),\n",
       " (datetime.date(2005, 4, 15), 'San Diego'),\n",
       " (datetime.date(2005, 4, 16), 'San Diego'),\n",
       " (datetime.date(2005, 4, 17), 'San Diego'),\n",
       " (datetime.date(2005, 4, 25), 'Arizona'),\n",
       " (datetime.date(2005, 4, 26), 'Arizona'),\n",
       " (datetime.date(2005, 4, 27), 'Arizona'),\n",
       " (datetime.date(2005, 4, 29), 'Colorado'),\n",
       " (datetime.date(2005, 4, 30), 'Colorado')]"
      ]
     },
     "execution_count": 23,
     "metadata": {},
     "output_type": "execute_result"
    }
   ],
   "source": [
    "# Join with Games\n",
    "\n",
    "def parseGames(row):\n",
    "    # get (date,opponent)\n",
    "    DATE_FMT=\"%m/%d/%y\"\n",
    "    row = row.split(\",\")\n",
    "    row[0] = datetime.strptime(row[0] , DATE_FMT).date()\n",
    "    return (row[0],row[4])\n",
    "\n",
    "gamesParsed = games.map(parseGames)\n",
    "gamesParsed.take(10)\n"
   ]
  },
  {
   "cell_type": "code",
   "execution_count": 28,
   "metadata": {},
   "outputs": [
    {
     "data": {
      "text/plain": [
       "[(datetime.date(2005, 4, 11), (5153, None)),\n",
       " (datetime.date(2005, 4, 15), (6472, 'San Diego')),\n",
       " (datetime.date(2005, 4, 17), (5322, 'San Diego')),\n",
       " (datetime.date(2005, 4, 19), (6049, None)),\n",
       " (datetime.date(2005, 4, 21), (5986, None)),\n",
       " (datetime.date(2005, 4, 22), (6038, None)),\n",
       " (datetime.date(2005, 4, 23), (5366, None)),\n",
       " (datetime.date(2005, 4, 24), (4319, None)),\n",
       " (datetime.date(2005, 4, 25), (6280, 'Arizona')),\n",
       " (datetime.date(2005, 4, 30), (6090, 'Colorado'))]"
      ]
     },
     "execution_count": 28,
     "metadata": {},
     "output_type": "execute_result"
    }
   ],
   "source": [
    "# we want to keep traffic data no matter that day has game or not\n",
    "# So use left outer join \n",
    "dailyTrendCombined = dailyTrend.leftOuterJoin(gamesParsed)\n",
    "dailyTrendCombined.take(10)"
   ]
  },
  {
   "cell_type": "code",
   "execution_count": 27,
   "metadata": {},
   "outputs": [
    {
     "data": {
      "text/plain": [
       "[(datetime.date(2005, 4, 15), (6472, 'San Diego')),\n",
       " (datetime.date(2005, 4, 17), (5322, 'San Diego')),\n",
       " (datetime.date(2005, 4, 25), (6280, 'Arizona')),\n",
       " (datetime.date(2005, 4, 30), (6090, 'Colorado')),\n",
       " (datetime.date(2005, 5, 1), (5178, 'Colorado')),\n",
       " (datetime.date(2005, 5, 4), (6423, 'Washington')),\n",
       " (datetime.date(2005, 5, 13), (6706, 'Atlanta')),\n",
       " (datetime.date(2005, 5, 21), (5767, 'LA Angels')),\n",
       " (datetime.date(2005, 6, 1), (6520, 'Chicago Cubs')),\n",
       " (datetime.date(2005, 6, 8), (6278, 'Detroit'))]"
      ]
     },
     "execution_count": 27,
     "metadata": {},
     "output_type": "execute_result"
    }
   ],
   "source": [
    "# inner join = only game day has data \n",
    "dailyTrendCombinedJoin = dailyTrend.join(gamesParsed)\n",
    "dailyTrendCombinedJoin.take(10)"
   ]
  },
  {
   "cell_type": "code",
   "execution_count": 30,
   "metadata": {},
   "outputs": [
    {
     "data": {
      "text/plain": [
       "[(datetime.date(2005, 4, 15), (6472, 'San Diego')),\n",
       " (datetime.date(2005, 4, 17), (5322, 'San Diego')),\n",
       " (datetime.date(2005, 4, 25), (6280, 'Arizona')),\n",
       " (datetime.date(2005, 4, 30), (6090, 'Colorado')),\n",
       " (datetime.date(2005, 5, 1), (5178, 'Colorado')),\n",
       " (datetime.date(2005, 5, 4), (6423, 'Washington')),\n",
       " (datetime.date(2005, 5, 13), (6706, 'Atlanta')),\n",
       " (datetime.date(2005, 5, 21), (5767, 'LA Angels')),\n",
       " (datetime.date(2005, 6, 1), (6520, 'Chicago Cubs')),\n",
       " (datetime.date(2005, 6, 8), (6278, 'Detroit'))]"
      ]
     },
     "execution_count": 30,
     "metadata": {},
     "output_type": "execute_result"
    }
   ],
   "source": [
    "# right outer join = only hame day has data \n",
    "dailyTrendCombinedRightJoin = dailyTrend.rightOuterJoin(gamesParsed)\n",
    "dailyTrendCombinedRightJoin.take(10)"
   ]
  },
  {
   "cell_type": "code",
   "execution_count": 32,
   "metadata": {},
   "outputs": [
    {
     "data": {
      "text/plain": [
       "[(datetime.date(2005, 4, 11), None, 'Regular Day', 5153),\n",
       " (datetime.date(2005, 4, 15), 'San Diego', 'Game Day', 6472),\n",
       " (datetime.date(2005, 4, 17), 'San Diego', 'Game Day', 5322),\n",
       " (datetime.date(2005, 4, 19), None, 'Regular Day', 6049),\n",
       " (datetime.date(2005, 4, 21), None, 'Regular Day', 5986),\n",
       " (datetime.date(2005, 4, 22), None, 'Regular Day', 6038),\n",
       " (datetime.date(2005, 4, 23), None, 'Regular Day', 5366),\n",
       " (datetime.date(2005, 4, 24), None, 'Regular Day', 4319),\n",
       " (datetime.date(2005, 4, 25), 'Arizona', 'Game Day', 6280),\n",
       " (datetime.date(2005, 4, 30), 'Colorado', 'Game Day', 6090)]"
      ]
     },
     "execution_count": 32,
     "metadata": {},
     "output_type": "execute_result"
    }
   ],
   "source": [
    "def checkGameDay(row):\n",
    "    #Date,Opponent,Type of Day,Number of Cars \n",
    "    if row[1][1] == None:\n",
    "        return (row[0],row[1][1],\"Regular Day\",row[1][0])\n",
    "    else:\n",
    "        return (row[0],row[1][1],\"Game Day\",row[1][0])\n",
    "    \n",
    "dailyTrendByGames = dailyTrendCombined.map(checkGameDay)\n",
    "dailyTrendByGames.take(10)"
   ]
  },
  {
   "cell_type": "code",
   "execution_count": 33,
   "metadata": {},
   "outputs": [
    {
     "data": {
      "text/plain": [
       "[(datetime.date(2005, 7, 28), 'Cincinnati', 'Game Day', 7661),\n",
       " (datetime.date(2005, 7, 29), 'St. Louis', 'Game Day', 7499),\n",
       " (datetime.date(2005, 8, 12), 'NY Mets', 'Game Day', 7287),\n",
       " (datetime.date(2005, 7, 27), 'Cincinnati', 'Game Day', 7238),\n",
       " (datetime.date(2005, 9, 23), 'Pittsburgh', 'Game Day', 7175),\n",
       " (datetime.date(2005, 7, 26), 'Cincinnati', 'Game Day', 7163),\n",
       " (datetime.date(2005, 5, 20), 'LA Angels', 'Game Day', 7119),\n",
       " (datetime.date(2005, 8, 11), 'Philadelphia', 'Game Day', 7110),\n",
       " (datetime.date(2005, 9, 8), None, 'Regular Day', 7107),\n",
       " (datetime.date(2005, 9, 7), 'San Francisco', 'Game Day', 7082)]"
      ]
     },
     "execution_count": 33,
     "metadata": {},
     "output_type": "execute_result"
    }
   ],
   "source": [
    "# get the top 10 traffic day \n",
    "dailyTrendByGames.sortBy(lambda x:-x[3]).take(10)"
   ]
  },
  {
   "cell_type": "markdown",
   "metadata": {},
   "source": [
    "# Avg value of each key"
   ]
  },
  {
   "cell_type": "code",
   "execution_count": 34,
   "metadata": {},
   "outputs": [
    {
     "data": {
      "text/plain": [
       "[('Regular Day', 5153),\n",
       " ('Game Day', 6472),\n",
       " ('Game Day', 5322),\n",
       " ('Regular Day', 6049),\n",
       " ('Regular Day', 5986),\n",
       " ('Regular Day', 6038),\n",
       " ('Regular Day', 5366),\n",
       " ('Regular Day', 4319),\n",
       " ('Game Day', 6280),\n",
       " ('Game Day', 6090)]"
      ]
     },
     "execution_count": 34,
     "metadata": {},
     "output_type": "execute_result"
    }
   ],
   "source": [
    "pairRDD= dailyTrendByGames.map(lambda x:(x[2],x[3]))\n",
    "pairRDD.take(10)"
   ]
  },
  {
   "cell_type": "code",
   "execution_count": 40,
   "metadata": {},
   "outputs": [
    {
     "data": {
      "text/plain": [
       "[('Regular Day', (510656, 93)), ('Game Day', (482749, 81))]"
      ]
     },
     "execution_count": 40,
     "metadata": {},
     "output_type": "execute_result"
    }
   ],
   "source": [
    "combineByKeyResult = pairRDD.combineByKey(lambda value: (value,1),\\\n",
    "                                          lambda acc,value: (acc[0]+value,acc[1]+1),\\\n",
    "                                          lambda acc1,acc2: (acc1[0]+acc2[0],acc1[1]+acc2[1]))\n",
    "combineByKeyResult.take(10)"
   ]
  },
  {
   "cell_type": "code",
   "execution_count": 41,
   "metadata": {},
   "outputs": [
    {
     "data": {
      "text/plain": [
       "[('Regular Day', 5490.924731182796), ('Game Day', 5959.864197530864)]"
      ]
     },
     "execution_count": 41,
     "metadata": {},
     "output_type": "execute_result"
    }
   ],
   "source": [
    "combineByKeyResult.mapValues(lambda x:x[0]/x[1]).collect()"
   ]
  },
  {
   "cell_type": "code",
   "execution_count": null,
   "metadata": {},
   "outputs": [],
   "source": []
  }
 ],
 "metadata": {
  "kernelspec": {
   "display_name": "Python 3",
   "language": "python",
   "name": "python3"
  },
  "language_info": {
   "codemirror_mode": {
    "name": "ipython",
    "version": 3
   },
   "file_extension": ".py",
   "mimetype": "text/x-python",
   "name": "python",
   "nbconvert_exporter": "python",
   "pygments_lexer": "ipython3",
   "version": "3.6.4"
  }
 },
 "nbformat": 4,
 "nbformat_minor": 2
}
