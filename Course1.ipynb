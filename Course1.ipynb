{
 "cells": [
  {
   "cell_type": "code",
   "execution_count": 1,
   "metadata": {},
   "outputs": [
    {
     "data": {
      "text/html": [
       "\n",
       "        <div>\n",
       "            <p><b>SparkContext</b></p>\n",
       "\n",
       "            <p><a href=\"http://192.168.1.6:4040\">Spark UI</a></p>\n",
       "\n",
       "            <dl>\n",
       "              <dt>Version</dt>\n",
       "                <dd><code>v2.2.0</code></dd>\n",
       "              <dt>Master</dt>\n",
       "                <dd><code>local[*]</code></dd>\n",
       "              <dt>AppName</dt>\n",
       "                <dd><code>PySparkShell</code></dd>\n",
       "            </dl>\n",
       "        </div>\n",
       "        "
      ],
      "text/plain": [
       "<SparkContext master=local[*] appName=PySparkShell>"
      ]
     },
     "execution_count": 1,
     "metadata": {},
     "output_type": "execute_result"
    }
   ],
   "source": [
    "sc"
   ]
  },
  {
   "cell_type": "code",
   "execution_count": 6,
   "metadata": {},
   "outputs": [],
   "source": [
    "filePath=\"file:///Users/chenwisely/notebook/AAPL.csv\"\n",
    "apple=sc.textFile(filePath)"
   ]
  },
  {
   "cell_type": "code",
   "execution_count": 7,
   "metadata": {},
   "outputs": [
    {
     "data": {
      "text/plain": [
       "file:///Users/chenwisely/notebook/AAPL.csv MapPartitionsRDD[5] at textFile at NativeMethodAccessorImpl.java:0"
      ]
     },
     "execution_count": 7,
     "metadata": {},
     "output_type": "execute_result"
    }
   ],
   "source": [
    "apple"
   ]
  },
  {
   "cell_type": "code",
   "execution_count": 8,
   "metadata": {},
   "outputs": [
    {
     "data": {
      "text/plain": [
       "['Date,Open,High,Low,Close,Adj Close,Volume',\n",
       " '1980-12-12,0.513393,0.515625,0.513393,0.513393,0.023357,117258400',\n",
       " '1980-12-15,0.488839,0.488839,0.486607,0.486607,0.022139,43971200',\n",
       " '1980-12-16,0.453125,0.453125,0.450893,0.450893,0.020514,26432000',\n",
       " '1980-12-17,0.462054,0.464286,0.462054,0.462054,0.021022,21610400',\n",
       " '1980-12-18,0.475446,0.477679,0.475446,0.475446,0.021631,18362400',\n",
       " '1980-12-19,0.504464,0.506696,0.504464,0.504464,0.022951,12157600',\n",
       " '1980-12-22,0.529018,0.531250,0.529018,0.529018,0.024068,9340800',\n",
       " '1980-12-23,0.551339,0.553571,0.551339,0.551339,0.025084,11737600',\n",
       " '1980-12-24,0.580357,0.582589,0.580357,0.580357,0.026404,12000800']"
      ]
     },
     "execution_count": 8,
     "metadata": {},
     "output_type": "execute_result"
    }
   ],
   "source": [
    "apple.take(10)"
   ]
  },
  {
   "cell_type": "code",
   "execution_count": 9,
   "metadata": {},
   "outputs": [
    {
     "data": {
      "text/plain": [
       "9383"
      ]
     },
     "execution_count": 9,
     "metadata": {},
     "output_type": "execute_result"
    }
   ],
   "source": [
    "apple.count()"
   ]
  },
  {
   "cell_type": "code",
   "execution_count": 5,
   "metadata": {},
   "outputs": [
    {
     "data": {
      "text/plain": [
       "['Date,Open,High,Low,Close,Adj Close,Volume',\n",
       " '2018-01-29,170.160004,170.160004,167.070007,167.960007,167.278000,50640400',\n",
       " '2018-01-30,165.529999,167.369995,164.699997,166.970001,166.292007,46048200',\n",
       " '2018-01-31,166.869995,168.440002,166.500000,167.429993,166.750137,32478900',\n",
       " '2018-02-01,167.169998,168.619995,166.759995,167.779999,167.098724,47230800',\n",
       " '2018-02-02,166.000000,166.800003,160.100006,160.500000,159.848282,86593800',\n",
       " '2018-02-05,159.100006,163.880005,156.000000,156.490005,155.854568,72738500',\n",
       " '2018-02-06,154.830002,163.720001,154.000000,163.029999,162.368011,68243800',\n",
       " '2018-02-07,163.089996,163.399994,159.070007,159.539993,158.892166,51608600',\n",
       " '2018-02-08,160.289993,161.000000,155.029999,155.149994,154.520004,54390500',\n",
       " '2018-02-09,157.070007,157.889999,150.240005,156.410004,156.410004,70672600',\n",
       " '2018-02-12,158.500000,163.889999,157.509995,162.710007,162.710007,60819500',\n",
       " '2018-02-13,161.949997,164.750000,161.649994,164.339996,164.339996,32549200',\n",
       " '2018-02-14,163.039993,167.539993,162.880005,167.369995,167.369995,40644900',\n",
       " '2018-02-15,169.789993,173.089996,169.000000,172.990005,172.990005,51147200',\n",
       " '2018-02-16,172.360001,174.820007,171.770004,172.429993,172.429993,40176100',\n",
       " '2018-02-20,172.050003,174.259995,171.419998,171.850006,171.850006,33930500',\n",
       " '2018-02-21,172.830002,174.119995,171.009995,171.070007,171.070007,37471600',\n",
       " '2018-02-22,171.800003,173.949997,171.710007,172.500000,172.500000,30991900',\n",
       " '2018-02-23,173.669998,175.649994,173.539993,175.500000,175.500000,33812400',\n",
       " '2018-02-26,176.350006,179.389999,176.210007,178.970001,178.970001,37159000']"
      ]
     },
     "execution_count": 5,
     "metadata": {},
     "output_type": "execute_result"
    }
   ],
   "source": [
    "apple.collect()"
   ]
  },
  {
   "cell_type": "code",
   "execution_count": null,
   "metadata": {},
   "outputs": [],
   "source": []
  }
 ],
 "metadata": {
  "kernelspec": {
   "display_name": "Python 3",
   "language": "python",
   "name": "python3"
  },
  "language_info": {
   "codemirror_mode": {
    "name": "ipython",
    "version": 3
   },
   "file_extension": ".py",
   "mimetype": "text/x-python",
   "name": "python",
   "nbconvert_exporter": "python",
   "pygments_lexer": "ipython3",
   "version": "3.6.4"
  }
 },
 "nbformat": 4,
 "nbformat_minor": 2
}
